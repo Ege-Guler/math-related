{
 "cells": [
  {
   "cell_type": "code",
   "execution_count": 74,
   "id": "8eb5ce36",
   "metadata": {},
   "outputs": [],
   "source": [
    "class Blackjack:\n",
    "    \n",
    "    deck = [\"2\", \"3\", \"4\", \"5\", \"6\", \"7\", \"8\", \"9\", \"king\", \"queen\", \"jack\", \"ace\"]\n",
    "    \n",
    "    def __init__(self):\n",
    "        pass\n",
    "        \n",
    "    def createDeck(self):\n",
    "        Blackjack.deck = Blackjack.deck* 4\n",
    "        return deck\n",
    "    \n",
    "    def "
   ]
  },
  {
   "cell_type": "code",
   "execution_count": 75,
   "id": "ef085bd8",
   "metadata": {},
   "outputs": [],
   "source": [
    "a = Blackjack()"
   ]
  },
  {
   "cell_type": "code",
   "execution_count": 76,
   "id": "3057dbf5",
   "metadata": {},
   "outputs": [
    {
     "data": {
      "text/plain": [
       "['2', '3', '4', '5', '6', '7', '8', '9', 'king', 'queen', 'jack', 'ace']"
      ]
     },
     "execution_count": 76,
     "metadata": {},
     "output_type": "execute_result"
    }
   ],
   "source": [
    "a.createDeck()"
   ]
  },
  {
   "cell_type": "code",
   "execution_count": 77,
   "id": "2722a504",
   "metadata": {},
   "outputs": [
    {
     "name": "stdout",
     "output_type": "stream",
     "text": [
      "['2', '3', '4', '5', '6', '7', '8', '9', 'king', 'queen', 'jack', 'ace', '2', '3', '4', '5', '6', '7', '8', '9', 'king', 'queen', 'jack', 'ace', '2', '3', '4', '5', '6', '7', '8', '9', 'king', 'queen', 'jack', 'ace', '2', '3', '4', '5', '6', '7', '8', '9', 'king', 'queen', 'jack', 'ace']\n"
     ]
    }
   ],
   "source": [
    "print(a.deck)"
   ]
  },
  {
   "cell_type": "code",
   "execution_count": 78,
   "id": "a6b000ad",
   "metadata": {},
   "outputs": [],
   "source": [
    "deck = [\"2\", \"3\", \"4\", \"5\", \"6\", \"7\", \"8\", \"9\", \"king\", \"queen\", \"jack\", \"ace\"]"
   ]
  },
  {
   "cell_type": "markdown",
   "id": "4bff46d3",
   "metadata": {},
   "source": [
    "![alt text](StrategicChart.png \"Title\")"
   ]
  },
  {
   "cell_type": "code",
   "execution_count": 108,
   "id": "32d0210d",
   "metadata": {},
   "outputs": [],
   "source": [
    "myDeck = [\"2\", \"3\", \"4\", \"5\", \"6\", \"7\", \"8\", \"9\", \"king\", \"queen\", \"jack\", \"ace\"]\n"
   ]
  },
  {
   "cell_type": "code",
   "execution_count": 162,
   "id": "a385816b",
   "metadata": {},
   "outputs": [],
   "source": [
    "import random\n",
    "\n",
    "\n",
    "myDeck = [\"2\", \"3\", \"4\", \"5\", \"6\", \"7\", \"8\", \"9\", \"king\", \"queen\", \"jack\", \"ace\"]\n",
    "# myDeck*=4\n",
    "\n",
    "#hit\n",
    "def draw(deck):\n",
    "    lenOfDeck = len(deck)\n",
    "    rng = random.randint(0,lenOfDeck)\n",
    "    return deck.pop(rng)\n",
    "\n",
    "#I am not sure whether it checks all conditions\n",
    "#but works\n",
    "\n",
    "def sumCards(cards):\n",
    "    \n",
    "    sumOfCards = 0\n",
    "    if \"ace\" in cards:\n",
    "\n",
    "        cards[cards.index(\"ace\")], cards[-1] = cards[-1], cards[cards.index(\"ace\")]\n",
    "\n",
    "    for i in cards:\n",
    "        if i == \"king\" or i == \"queen\" or i == \"jack\":\n",
    "\n",
    "            print(i, end=\"\\n\")\n",
    "            sumOfCards += 10\n",
    "\n",
    "        elif i != \"ace\":\n",
    "\n",
    "            sumOfCards += int(i)\n",
    "            print(i, end=\"\\n\")\n",
    "        else:\n",
    "\n",
    "            print(i, end=\"\\n\")\n",
    "            if(sumOfCards + 11 > 21):\n",
    "                sumOfCards +=1\n",
    "            else:\n",
    "\n",
    "                sumOfCards += 11\n",
    "            \n",
    "    \n",
    "def dealerUpCard(deck):\n",
    "    return draw(deck)\n",
    "\n",
    "#dealersCard = dealerUpCard(myDeck)\n",
    "#print(dealersCard)\n",
    "\n",
    "#it works"
   ]
  },
  {
   "cell_type": "code",
   "execution_count": 164,
   "id": "33ccc537",
   "metadata": {},
   "outputs": [],
   "source": [
    "dealersCard = dealerUpCard(myDeck)\n",
    "\n",
    "\n",
    "#checks if Player should split or not\n",
    "def checkDuplciate(cards):\n",
    "    if len(cards) != 2:\n",
    "        return False\n",
    "    \n",
    "    else:\n",
    "        if cards[0] == cards[1]:\n",
    "            return True\n",
    "        else:\n",
    "            return False\n",
    "            \n",
    "    \n",
    "#draws and appends to cards list \n",
    "def drawAndAppend(deck, cardsList):\n",
    "    cardsList.append(draw(deck))\n",
    "    return cardsList\n",
    "\n",
    "def player(deck, dCard):\n",
    "    \n",
    "    cards = []\n",
    "    \n",
    "    \n",
    "    #first draw\n",
    "    drawAndAppend(myDeck, cards)\n",
    "    \n",
    "    \n",
    "    while(sumOfCards(cards) < )\n",
    "    \n",
    "    #possible cases when only one card is drawn\n",
    "    \n",
    "    # >= 5 sum <= 8\n",
    "    if sumCards(cards) >= 5 and sumCards <= 8:\n",
    "        #second draw\n",
    "        drawAndAppend(myDeck, cards)\n",
    "        \n",
    "    #equals to 9\n",
    "    elif sumCards(cards) == 9:\n",
    "        if dealersCard >= 3 and dealersCard <= 6:\n",
    "            #double\n",
    "            pass\n",
    "        else:\n",
    "            drawAndAppend(myDeck, cards)\n",
    "    \n",
    "    #equals to 10\n",
    "    elif sumOfCards(cards) == 10:\n",
    "        \n",
    "        if dealersCard >= 2 and dealersCard <= 10:\n",
    "            #double\n",
    "            pass\n",
    "        else:\n",
    "            drawAndAppend(myDeck, cards)\n",
    "            \n",
    "    #I need at least 2 cards to get in  these conditions\n",
    "    #no idea if a recursion is necessary\n",
    "    \n",
    "    else:\n",
    "        drawAndAppend(myDeck, cards)\n",
    "        \n",
    "        # >= 17\n",
    "        if sumOfCards(cards) >= 17:\n",
    "            #stand\n",
    "            return sumOfCards(cards)\n",
    "        \n",
    "        #if dealers up card <=6 stand\n",
    "        \n",
    "        if (dealersCard <= 6 and dealersCard >= 2) and (sumOfCards(cards) <= 16 and sumOfCards(cards) >= 13)\n",
    "            #stand\n",
    "            return sumOfCards(cards)\n",
    "        \n",
    "        \n",
    "\n",
    "   \n",
    "    \n"
   ]
  },
  {
   "cell_type": "code",
   "execution_count": null,
   "id": "3b0ef543",
   "metadata": {},
   "outputs": [],
   "source": []
  }
 ],
 "metadata": {
  "kernelspec": {
   "display_name": "Python 3",
   "language": "python",
   "name": "python3"
  },
  "language_info": {
   "codemirror_mode": {
    "name": "ipython",
    "version": 3
   },
   "file_extension": ".py",
   "mimetype": "text/x-python",
   "name": "python",
   "nbconvert_exporter": "python",
   "pygments_lexer": "ipython3",
   "version": "3.8.8"
  }
 },
 "nbformat": 4,
 "nbformat_minor": 5
}
